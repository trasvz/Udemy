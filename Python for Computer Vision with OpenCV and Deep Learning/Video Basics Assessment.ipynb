{
 "cells": [
  {
   "cell_type": "markdown",
   "metadata": {},
   "source": [
    "### Task: Create a program that reads in a livestream from a camera or just open up a video file. then whenever you click left mouse button, create a blue circle around where you've clicked."
   ]
  },
  {
   "cell_type": "code",
   "execution_count": 22,
   "metadata": {},
   "outputs": [],
   "source": [
    "import cv2\n",
    "# import time\n",
    "\n",
    "def gambar(event,x,y,flags,param):\n",
    "    global pt1,topLeft_clicked\n",
    "    \n",
    "    if event == cv2.EVENT_LBUTTONDOWN:\n",
    "        if topLeft_clicked == True:\n",
    "            pt1 = (0,0)\n",
    "            topLeft_clicked = False\n",
    "        \n",
    "        if topLeft_clicked == False:\n",
    "            pt1 = (x,y)\n",
    "            topLeft_clicked = True\n",
    "        \n",
    "pt1 = (0,0)\n",
    "topLeft_clicked = False\n",
    "\n",
    "capt = cv2.VideoCapture(0)\n",
    "cv2.namedWindow('Test')\n",
    "cv2.setMouseCallback('Test',gambar)\n",
    "\n",
    "while True:\n",
    "    ret,frame = capt.read()\n",
    "    \n",
    "    if topLeft_clicked:\n",
    "        cv2.circle(frame,center=pt1,radius=50,color=(255,0,0),thickness=5)\n",
    "    \n",
    "    cv2.imshow('Test',frame)\n",
    "        \n",
    "    if cv2.waitKey(1) & 0xFF == 27:\n",
    "        break\n",
    "\n",
    "capt.release()\n",
    "cv2.destroyAllWindows()"
   ]
  },
  {
   "cell_type": "code",
   "execution_count": null,
   "metadata": {},
   "outputs": [],
   "source": []
  }
 ],
 "metadata": {
  "kernelspec": {
   "display_name": "Python 3",
   "language": "python",
   "name": "python3"
  },
  "language_info": {
   "codemirror_mode": {
    "name": "ipython",
    "version": 3
   },
   "file_extension": ".py",
   "mimetype": "text/x-python",
   "name": "python",
   "nbconvert_exporter": "python",
   "pygments_lexer": "ipython3",
   "version": "3.7.1"
  }
 },
 "nbformat": 4,
 "nbformat_minor": 4
}
